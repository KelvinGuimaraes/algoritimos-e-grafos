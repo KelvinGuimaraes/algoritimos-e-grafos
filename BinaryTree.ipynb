{
  "nbformat": 4,
  "nbformat_minor": 0,
  "metadata": {
    "colab": {
      "provenance": []
    },
    "kernelspec": {
      "name": "python3",
      "display_name": "Python 3"
    },
    "language_info": {
      "name": "python"
    }
  },
  "cells": [
    {
      "cell_type": "markdown",
      "source": [
        "# Árvore Binária"
      ],
      "metadata": {
        "id": "0oxAhUPLQHgr"
      }
    },
    {
      "cell_type": "code",
      "execution_count": null,
      "metadata": {
        "id": "zgyUrTOnOYQU",
        "colab": {
          "base_uri": "https://localhost:8080/"
        },
        "outputId": "6f2257fe-d9b8-47e1-d234-06d740fc1dc1"
      },
      "outputs": [
        {
          "output_type": "stream",
          "name": "stdout",
          "text": [
            "4 \n",
            " 5 \n",
            " 2\n"
          ]
        }
      ],
      "source": [
        "class Node:\n",
        "  def __init__(self, value):\n",
        "    self.left = None\n",
        "    self.right = None\n",
        "    self.value = value\n",
        "\n",
        "  def obtvalor(self):\n",
        "    return self.value\n",
        "\n",
        "  def setleft(self, left):\n",
        "    self.left = left\n",
        "  def setright(self, rigth):\n",
        "    self.right = rigth\n",
        "\n",
        "  def obtleft(self):\n",
        "    return self.left\n",
        "  def obtright(self):\n",
        "    return self.right\n",
        "\n",
        "no1 = Node(4)\n",
        "no2 = Node(2)\n",
        "no3 = Node(5)\n",
        "\n",
        "no1.setleft(no2)\n",
        "no1.setright(no3)\n",
        "\n",
        "print(no1.obtvalor(),\"\\n\", no1.obtright().obtvalor(),\n",
        "      \"\\n\", no1.obtleft().obtvalor())\n"
      ]
    },
    {
      "cell_type": "markdown",
      "source": [
        "\n",
        "\n",
        "---\n",
        "\n",
        "\n",
        "# Árvore Binária de Busca"
      ],
      "metadata": {
        "id": "o6TiGeOsoulJ"
      }
    },
    {
      "cell_type": "markdown",
      "source": [
        "# Em Ordem"
      ],
      "metadata": {
        "id": "DUJ2UeU4AAYg"
      }
    },
    {
      "cell_type": "code",
      "source": [
        "class Node:\n",
        "  def __init__(self, value):\n",
        "    self.left = None\n",
        "    self.right = None\n",
        "    self.value = value\n",
        "\n",
        "  def obtvalor(self):\n",
        "    return self.value\n",
        "\n",
        "  def setleft(self, left):\n",
        "    self.left = left\n",
        "  def setright(self, rigth):\n",
        "    self.right = rigth\n",
        "\n",
        "  def obtleft(self):\n",
        "    return self.left\n",
        "  def obtright(self):\n",
        "    return self.right\n",
        "\n",
        "#nova clase para a busca\n",
        "class BinaryTree:\n",
        "  def __init__(self):\n",
        "    self.raiz = None\n",
        "\n",
        "  def obtraiz(self):\n",
        "    return self.raiz\n",
        "\n",
        "  def insert(self, value):\n",
        "    no = Node(value)\n",
        "\n",
        "    if self.raiz == None:\n",
        "      self.raiz = no\n",
        "    else:\n",
        "      no_atual = self.raiz\n",
        "      no_pai = None\n",
        "\n",
        "      while True:\n",
        "        if no_atual != None:\n",
        "          no_pai = no_atual\n",
        "          if no.obtvalor() < no_atual.obtvalor():\n",
        "            no_atual = no_atual.obtleft()\n",
        "          else:\n",
        "            no_atual = no_atual.obtright()\n",
        "        else:\n",
        "          if no.obtvalor() < no_pai.obtvalor():\n",
        "            no_pai.setleft(no)\n",
        "          else:\n",
        "            no_pai.setright(no)\n",
        "          break\n",
        "\n",
        "#percuso em orndem sinetrica\n",
        "  def viewtree(self, no_atual):\n",
        "    if no_atual != None:\n",
        "      self.viewtree(no_atual.obtleft())\n",
        "      print(f'{no_atual.obtvalor()}', end=' ')\n",
        "      self.viewtree(no_atual.obtright())\n",
        "\n",
        "t = BinaryTree()\n",
        "\n",
        "t.insert(8)\n",
        "t.insert(3)\n",
        "t.insert(6)\n",
        "t.insert(10)\n",
        "t.insert(14)\n",
        "t.insert(1)\n",
        "t.insert(7)\n",
        "t.insert(13)\n",
        "t.insert(4)\n",
        "\n",
        "t.viewtree(t.obtraiz())\n"
      ],
      "metadata": {
        "id": "i3tyB5_fo0mI",
        "colab": {
          "base_uri": "https://localhost:8080/"
        },
        "outputId": "bfe81199-ae1a-4c7e-b5df-f9ef0c950999"
      },
      "execution_count": null,
      "outputs": [
        {
          "output_type": "stream",
          "name": "stdout",
          "text": [
            "1 3 4 6 7 8 10 13 14 "
          ]
        }
      ]
    },
    {
      "cell_type": "markdown",
      "source": [
        "# Em Pre-Ordem"
      ],
      "metadata": {
        "id": "EFX8Fz1RAFy5"
      }
    },
    {
      "cell_type": "code",
      "source": [
        "class Node:\n",
        "  def __init__(self, value):\n",
        "    self.left = None\n",
        "    self.right = None\n",
        "    self.value = value\n",
        "\n",
        "  def obtvalor(self):\n",
        "    return self.value\n",
        "\n",
        "  def setleft(self, left):\n",
        "    self.left = left\n",
        "  def setright(self, rigth):\n",
        "    self.right = rigth\n",
        "\n",
        "  def obtleft(self):\n",
        "    return self.left\n",
        "  def obtright(self):\n",
        "    return self.right\n",
        "\n",
        "#nova clase para a busca\n",
        "class BinaryTree:\n",
        "  def __init__(self):\n",
        "    self.raiz = None\n",
        "\n",
        "  def obtraiz(self):\n",
        "    return self.raiz\n",
        "\n",
        "  def insert(self, value):\n",
        "    no = Node(value)\n",
        "\n",
        "    if self.raiz == None:\n",
        "      self.raiz = no\n",
        "    else:\n",
        "      no_atual = self.raiz\n",
        "      no_pai = None\n",
        "\n",
        "      while True:\n",
        "        if no_atual != None:\n",
        "          no_pai = no_atual\n",
        "          if no.obtvalor() < no_atual.obtvalor():\n",
        "            no_atual = no_atual.obtleft()\n",
        "          else:\n",
        "            no_atual = no_atual.obtright()\n",
        "        else:\n",
        "          if no.obtvalor() < no_pai.obtvalor():\n",
        "            no_pai.setleft(no)\n",
        "          else:\n",
        "            no_pai.setright(no)\n",
        "          break\n",
        "\n",
        "#percuso em pre-ordem\n",
        "  def viewtree(self, no_atual):\n",
        "    if no_atual != None:\n",
        "      print(f'{no_atual.obtvalor()}', end=' ')\n",
        "      self.viewtree(no_atual.obtleft())\n",
        "      self.viewtree(no_atual.obtright())\n",
        "\n",
        "t = BinaryTree()\n",
        "\n",
        "t.insert(8)\n",
        "t.insert(3)\n",
        "t.insert(6)\n",
        "t.insert(10)\n",
        "t.insert(14)\n",
        "t.insert(1)\n",
        "t.insert(7)\n",
        "t.insert(13)\n",
        "t.insert(4)\n",
        "\n",
        "t.viewtree(t.obtraiz())\n"
      ],
      "metadata": {
        "colab": {
          "base_uri": "https://localhost:8080/"
        },
        "id": "tKzIuS_X9aYe",
        "outputId": "5b281a54-59d0-4607-8362-28c8147bb9ee"
      },
      "execution_count": null,
      "outputs": [
        {
          "output_type": "stream",
          "name": "stdout",
          "text": [
            "8 3 1 6 4 7 10 14 13 "
          ]
        }
      ]
    },
    {
      "cell_type": "markdown",
      "source": [
        "# Em Pós-Ordem"
      ],
      "metadata": {
        "id": "qbtzxK-VAJyJ"
      }
    },
    {
      "cell_type": "code",
      "source": [
        "class Node:\n",
        "  def __init__(self, value):\n",
        "    self.left = None\n",
        "    self.right = None\n",
        "    self.value = value\n",
        "\n",
        "  def obtvalor(self):\n",
        "    return self.value\n",
        "\n",
        "  def setleft(self, left):\n",
        "    self.left = left\n",
        "  def setright(self, rigth):\n",
        "    self.right = rigth\n",
        "\n",
        "  def obtleft(self):\n",
        "    return self.left\n",
        "  def obtright(self):\n",
        "    return self.right\n",
        "\n",
        "#nova clase para a busca\n",
        "class BinaryTree:\n",
        "  def __init__(self):\n",
        "    self.raiz = None\n",
        "\n",
        "  def obtraiz(self):\n",
        "    return self.raiz\n",
        "\n",
        "  def insert(self, value):\n",
        "    no = Node(value)\n",
        "\n",
        "    if self.raiz == None:\n",
        "      self.raiz = no\n",
        "    else:\n",
        "      no_atual = self.raiz\n",
        "      no_pai = None\n",
        "\n",
        "      while True:\n",
        "        if no_atual != None:\n",
        "          no_pai = no_atual\n",
        "          if no.obtvalor() < no_atual.obtvalor():\n",
        "            no_atual = no_atual.obtleft()\n",
        "          else:\n",
        "            no_atual = no_atual.obtright()\n",
        "        else:\n",
        "          if no.obtvalor() < no_pai.obtvalor():\n",
        "            no_pai.setleft(no)\n",
        "          else:\n",
        "            no_pai.setright(no)\n",
        "          break\n",
        "\n",
        "#percuso em pos-ordem\n",
        "  def viewtree(self, no_atual):\n",
        "    if no_atual != None:\n",
        "      self.viewtree(no_atual.obtleft())\n",
        "      self.viewtree(no_atual.obtright())\n",
        "      print(f'{no_atual.obtvalor()}', end=' ')\n",
        "\n",
        "t = BinaryTree()\n",
        "\n",
        "t.insert(8)\n",
        "t.insert(3)\n",
        "t.insert(6)\n",
        "t.insert(10)\n",
        "t.insert(14)\n",
        "t.insert(1)\n",
        "t.insert(7)\n",
        "t.insert(13)\n",
        "t.insert(4)\n",
        "\n",
        "t.viewtree(t.obtraiz())\n"
      ],
      "metadata": {
        "colab": {
          "base_uri": "https://localhost:8080/"
        },
        "id": "qrtZToSP9aH9",
        "outputId": "7d3adf72-1eca-41c1-e47f-5abd7cda2ca4"
      },
      "execution_count": null,
      "outputs": [
        {
          "output_type": "stream",
          "name": "stdout",
          "text": [
            "1 4 7 6 3 13 14 10 8 "
          ]
        }
      ]
    }
  ]
}