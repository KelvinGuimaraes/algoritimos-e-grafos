{
  "nbformat": 4,
  "nbformat_minor": 0,
  "metadata": {
    "colab": {
      "provenance": []
    },
    "kernelspec": {
      "name": "python3",
      "display_name": "Python 3"
    },
    "language_info": {
      "name": "python"
    }
  },
  "cells": [
    {
      "cell_type": "markdown",
      "source": [
        "# Busca em Grafos"
      ],
      "metadata": {
        "id": "x1zJGbGcmiTw"
      }
    },
    {
      "cell_type": "markdown",
      "source": [
        "Busca em Largura (BFS)"
      ],
      "metadata": {
        "id": "AkVppJa7mvRT"
      }
    },
    {
      "cell_type": "code",
      "execution_count": null,
      "metadata": {
        "id": "h07YsApYP5Lh",
        "colab": {
          "base_uri": "https://localhost:8080/"
        },
        "outputId": "c4fc680d-300d-43eb-e7e0-41cc068116b3"
      },
      "outputs": [
        {
          "output_type": "stream",
          "name": "stdout",
          "text": [
            "A\n",
            "B\n",
            "C\n",
            "D\n",
            "E\n",
            "F\n"
          ]
        }
      ],
      "source": [
        "from collections import deque\n",
        "\n",
        "def bfs(grafo, vertice_inicial):\n",
        "    visitados = set()\n",
        "    fila = deque([vertice_inicial])\n",
        "\n",
        "    while fila:\n",
        "        vertice_atual = fila.popleft()\n",
        "        if vertice_atual not in visitados:\n",
        "            visitados.add(vertice_atual)\n",
        "            print(vertice_atual)  # Processa o vértice\n",
        "            for vizinho in grafo[vertice_atual]:\n",
        "                if vizinho not in visitados:\n",
        "                    fila.append(vizinho)\n",
        "\n",
        "# Exemplo de uso:\n",
        "grafo = {\n",
        "    'A': ['B', 'C'],\n",
        "    'B': ['A', 'D', 'E'],\n",
        "    'C': ['A', 'F'],\n",
        "    'D': ['B'],\n",
        "    'E': ['B', 'F'],\n",
        "    'F': ['C', 'E']\n",
        "}\n",
        "\n",
        "bfs(grafo, 'A')\n"
      ]
    },
    {
      "cell_type": "markdown",
      "source": [
        "Busca em Profundidade (DFS)"
      ],
      "metadata": {
        "id": "RzegljkHmxKn"
      }
    },
    {
      "cell_type": "code",
      "source": [
        "def dfs(grafo, vertice_atual, visitados):\n",
        "    if vertice_atual not in visitados:\n",
        "        visitados.add(vertice_atual)\n",
        "        print(vertice_atual)  # Processa o vértice\n",
        "        for vizinho in grafo[vertice_atual]:\n",
        "            dfs(grafo, vizinho, visitados)\n",
        "\n",
        "# Exemplo de uso:\n",
        "grafo = {\n",
        "    'A': ['B', 'C'],\n",
        "    'B': ['A', 'D', 'E'],\n",
        "    'C': ['A', 'F'],\n",
        "    'D': ['B'],\n",
        "    'E': ['B', 'F'],\n",
        "    'F': ['C', 'E']\n",
        "}\n",
        "\n",
        "visitados = set()\n",
        "dfs(grafo, 'A', visitados)\n"
      ],
      "metadata": {
        "colab": {
          "base_uri": "https://localhost:8080/"
        },
        "id": "UttfvGt0m0Qx",
        "outputId": "f98eb948-b46e-4312-ff7f-4485d3dadb8e"
      },
      "execution_count": null,
      "outputs": [
        {
          "output_type": "stream",
          "name": "stdout",
          "text": [
            "A\n",
            "B\n",
            "D\n",
            "E\n",
            "F\n",
            "C\n"
          ]
        }
      ]
    }
  ]
}